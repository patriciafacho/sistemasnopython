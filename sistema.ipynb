{
 "cells": [
  {
   "attachments": {},
   "cell_type": "markdown",
   "metadata": {},
   "source": [
    "<h1>Quantas notas?<h1>\n",
    " <h3> Sistemas Lineares com Python<h3>\n",
    "    \n",
    " \n",
    "\n"
   ]
  },
  {
   "cell_type": "markdown",
   "metadata": {},
   "source": [
    "Um caixa automático de um banco só libera notas de 5 reais e 10 reais. Uma pessoa retirou desse caixa a importância de R$65,00 recebendo 10 notas. Quantas notas de cada valor o caixa liberou?"
   ]
  },
  {
   "cell_type": "markdown",
   "metadata": {
    "scrolled": true
   },
   "source": [
    "![image.png](atm.png \"atm\")"
   ]
  },
  {
   "attachments": {},
   "cell_type": "markdown",
   "metadata": {},
   "source": [
    "Sendo $x$ a quantidade de notas de 5 reais e $y$ a quantidade de notas de 10 reais, obtemos os sistema abaixo: \\\n",
    "   $\\left\\{\\begin{array}{ccc}\n",
    "    x+y&=&5 \\\\\n",
    "    5x+10y&=&65\n",
    "    \\end{array}\\right. $\n",
    "    \n",
    "Transformando em forma matricial temos: \n",
    "\n",
    "$\\left[\\begin{array}{cc}\n",
    "    1&1 \\\\\n",
    "    5&10\n",
    "    \\end{array}\\right] $\n",
    " $\\left[\\begin{array}{c}\n",
    "    x \\\\\n",
    "    y\n",
    "    \\end{array}\\right] $\n",
    "    $=$\n",
    "    $\\left[\\begin{array}{c}\n",
    "    10 \\\\\n",
    "    65\n",
    "    \\end{array}\\right] $\n",
    "   \n",
    "Onde, \\\n",
    "$A=\\left[\\begin{array}{cc}\n",
    "    1&1 \\\\\n",
    "    5&10\n",
    "    \\end{array}\\right] $,\n",
    "$X=\\left[\\begin{array}{c}\n",
    "    x \\\\\n",
    "    y\n",
    "    \\end{array}\\right] $\n",
    "  e $B=\\left[\\begin{array}{c}\n",
    "    10 \\\\\n",
    "    65\n",
    "    \\end{array}\\right] $ \\ \n",
    "Assim temos que \\\n",
    "$AX=B \\Rightarrow A^{-1}AX=A^{-1}B \\Rightarrow X=A^{-1}B $ \\\n",
    "\n",
    "Calculando a matriz inversa de A, obtemos a matriz\n",
    "$A^{-1}=\\left[\\begin{array}{cc}\n",
    "  2&-\\frac{1}{5} \\\\\n",
    "  -1 & \\frac{1}{5}\n",
    "  \\end{array}\\right]$ \n",
    "  \n",
    "  E por fim, multiplicando a matrizes A^{-1} e B, obtemos a matriz X:\\\n",
    "  $X=\\left[\\begin{array}{c}\n",
    "  7 \\\\\n",
    "  3\n",
    "  \\end{array}\\right]$ \\\n",
    "  Disso concluímos que o caixa liberou 7 notas de 5 reais e 3 notas de 10 reais.  \n",
    "  \n",
    "  Agora vamos confererir as contas no Python:\n",
    "\n"
   ]
  },
  {
   "cell_type": "code",
   "execution_count": 16,
   "metadata": {},
   "outputs": [],
   "source": [
    "import numpy as np\n",
    "\n",
    "#declarar as matrizes\n",
    "A = np.array([[1,1],[5,10]])\n",
    "B = np.array([[10],[65]])\n",
    "\n",
    "#encontrar a inversa da matriz A\n",
    "A_inversa = np.linalg.inv(A)\n",
    "\n",
    "#Encontrar X\n",
    "X = np.dot(A_inversa,B)\n"
   ]
  },
  {
   "cell_type": "code",
   "execution_count": 17,
   "metadata": {},
   "outputs": [
    {
     "data": {
      "text/plain": [
       "array([[ 1,  1],\n",
       "       [ 5, 10]])"
      ]
     },
     "execution_count": 17,
     "metadata": {},
     "output_type": "execute_result"
    }
   ],
   "source": [
    "A"
   ]
  },
  {
   "cell_type": "code",
   "execution_count": 18,
   "metadata": {},
   "outputs": [
    {
     "data": {
      "text/plain": [
       "array([[10],\n",
       "       [65]])"
      ]
     },
     "execution_count": 18,
     "metadata": {},
     "output_type": "execute_result"
    }
   ],
   "source": [
    "B"
   ]
  },
  {
   "cell_type": "code",
   "execution_count": 19,
   "metadata": {},
   "outputs": [
    {
     "data": {
      "text/plain": [
       "array([[7.],\n",
       "       [3.]])"
      ]
     },
     "execution_count": 19,
     "metadata": {},
     "output_type": "execute_result"
    }
   ],
   "source": [
    "X"
   ]
  },
  {
   "cell_type": "markdown",
   "metadata": {},
   "source": [
    "Imagem retirada do site Flaticon. Disponível em: https://www.flaticon.com/free-icon/atm_2132773#term=cash%20machine&page=1&position=4"
   ]
  },
  {
   "cell_type": "code",
   "execution_count": null,
   "metadata": {},
   "outputs": [],
   "source": []
  }
 ],
 "metadata": {
  "kernelspec": {
   "display_name": "Python 3",
   "language": "python",
   "name": "python3"
  },
  "language_info": {
   "codemirror_mode": {
    "name": "ipython",
    "version": 3
   },
   "file_extension": ".py",
   "mimetype": "text/x-python",
   "name": "python",
   "nbconvert_exporter": "python",
   "pygments_lexer": "ipython3",
   "version": "3.7.3"
  }
 },
 "nbformat": 4,
 "nbformat_minor": 2
}
